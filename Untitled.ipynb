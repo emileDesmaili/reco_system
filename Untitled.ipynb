{
 "cells": [
  {
   "cell_type": "code",
   "execution_count": 22,
   "id": "1f615bea",
   "metadata": {},
   "outputs": [],
   "source": [
    "import pandas as pd\n",
    "from streamlit_assets.components import get_recos_users"
   ]
  },
  {
   "cell_type": "markdown",
   "id": "7311b222",
   "metadata": {},
   "source": [
    "### Exploring movielens data for recos"
   ]
  },
  {
   "cell_type": "code",
   "execution_count": 20,
   "id": "eb2879d4",
   "metadata": {},
   "outputs": [
    {
     "data": {
      "text/html": [
       "<div>\n",
       "<style scoped>\n",
       "    .dataframe tbody tr th:only-of-type {\n",
       "        vertical-align: middle;\n",
       "    }\n",
       "\n",
       "    .dataframe tbody tr th {\n",
       "        vertical-align: top;\n",
       "    }\n",
       "\n",
       "    .dataframe thead th {\n",
       "        text-align: right;\n",
       "    }\n",
       "</style>\n",
       "<table border=\"1\" class=\"dataframe\">\n",
       "  <thead>\n",
       "    <tr style=\"text-align: right;\">\n",
       "      <th></th>\n",
       "      <th>user_id</th>\n",
       "      <th>item_id</th>\n",
       "      <th>rating</th>\n",
       "    </tr>\n",
       "  </thead>\n",
       "  <tbody>\n",
       "    <tr>\n",
       "      <th>0</th>\n",
       "      <td>1</td>\n",
       "      <td>31</td>\n",
       "      <td>2.5</td>\n",
       "    </tr>\n",
       "    <tr>\n",
       "      <th>1</th>\n",
       "      <td>1</td>\n",
       "      <td>1029</td>\n",
       "      <td>3.0</td>\n",
       "    </tr>\n",
       "    <tr>\n",
       "      <th>2</th>\n",
       "      <td>1</td>\n",
       "      <td>1061</td>\n",
       "      <td>3.0</td>\n",
       "    </tr>\n",
       "    <tr>\n",
       "      <th>3</th>\n",
       "      <td>1</td>\n",
       "      <td>1129</td>\n",
       "      <td>2.0</td>\n",
       "    </tr>\n",
       "    <tr>\n",
       "      <th>4</th>\n",
       "      <td>1</td>\n",
       "      <td>1172</td>\n",
       "      <td>4.0</td>\n",
       "    </tr>\n",
       "  </tbody>\n",
       "</table>\n",
       "</div>"
      ],
      "text/plain": [
       "   user_id  item_id  rating\n",
       "0        1       31     2.5\n",
       "1        1     1029     3.0\n",
       "2        1     1061     3.0\n",
       "3        1     1129     2.0\n",
       "4        1     1172     4.0"
      ]
     },
     "execution_count": 20,
     "metadata": {},
     "output_type": "execute_result"
    }
   ],
   "source": [
    "reviews = pd.read_csv('data/movielens/ratings_small.csv',usecols=['userId','movieId','rating'])\n",
    "reviews.columns=['user_id','item_id','rating']\n",
    "reviews.head()"
   ]
  },
  {
   "cell_type": "code",
   "execution_count": 24,
   "id": "b457c062",
   "metadata": {},
   "outputs": [
    {
     "ename": "TypeError",
     "evalue": "get_recos_users() got an unexpected keyword argument 'filter_items'",
     "output_type": "error",
     "traceback": [
      "\u001b[1;31m---------------------------------------------------------------------------\u001b[0m",
      "\u001b[1;31mTypeError\u001b[0m                                 Traceback (most recent call last)",
      "\u001b[1;32mc:\\git\\reco_system\\Untitled.ipynb Cell 4'\u001b[0m in \u001b[0;36m<cell line: 1>\u001b[1;34m()\u001b[0m\n\u001b[1;32m----> <a href='vscode-notebook-cell:/c%3A/git/reco_system/Untitled.ipynb#ch0000001?line=0'>1</a>\u001b[0m df_recos \u001b[39m=\u001b[39m get_recos_users([\u001b[39m'\u001b[39;49m\u001b[39m31\u001b[39;49m\u001b[39m'\u001b[39;49m],reviews, filter_items\u001b[39m=\u001b[39;49m\u001b[39mFalse\u001b[39;49;00m, default_rating\u001b[39m=\u001b[39;49m\u001b[39m4.0\u001b[39;49m)\n",
      "\u001b[1;31mTypeError\u001b[0m: get_recos_users() got an unexpected keyword argument 'filter_items'"
     ]
    }
   ],
   "source": [
    "df_recos = get_recos_users(['31'],reviews, filter_items=False, default_rating=4.0)"
   ]
  },
  {
   "cell_type": "code",
   "execution_count": null,
   "id": "b2aa927a",
   "metadata": {},
   "outputs": [],
   "source": []
  }
 ],
 "metadata": {
  "kernelspec": {
   "display_name": "Python 3.9.12 ('reco_system': venv)",
   "language": "python",
   "name": "python3"
  },
  "language_info": {
   "codemirror_mode": {
    "name": "ipython",
    "version": 3
   },
   "file_extension": ".py",
   "mimetype": "text/x-python",
   "name": "python",
   "nbconvert_exporter": "python",
   "pygments_lexer": "ipython3",
   "version": "3.9.12"
  },
  "vscode": {
   "interpreter": {
    "hash": "e601258f51ddca42595aa203183a0a7f0c8a7edb35b20e6e399f597e75c4505c"
   }
  }
 },
 "nbformat": 4,
 "nbformat_minor": 5
}
