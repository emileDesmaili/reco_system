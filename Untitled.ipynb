{
 "cells": [
  {
   "cell_type": "code",
   "execution_count": 15,
   "id": "1f615bea",
   "metadata": {},
   "outputs": [],
   "source": [
    "import pandas as pd\n",
    "from streamlit_assets.components import get_recos_users"
   ]
  },
  {
   "cell_type": "code",
   "execution_count": 9,
   "id": "eb2879d4",
   "metadata": {},
   "outputs": [
    {
     "data": {
      "text/html": [
       "<div>\n",
       "<style scoped>\n",
       "    .dataframe tbody tr th:only-of-type {\n",
       "        vertical-align: middle;\n",
       "    }\n",
       "\n",
       "    .dataframe tbody tr th {\n",
       "        vertical-align: top;\n",
       "    }\n",
       "\n",
       "    .dataframe thead th {\n",
       "        text-align: right;\n",
       "    }\n",
       "</style>\n",
       "<table border=\"1\" class=\"dataframe\">\n",
       "  <thead>\n",
       "    <tr style=\"text-align: right;\">\n",
       "      <th></th>\n",
       "      <th>user_id</th>\n",
       "      <th>item_id</th>\n",
       "      <th>rating</th>\n",
       "    </tr>\n",
       "  </thead>\n",
       "  <tbody>\n",
       "    <tr>\n",
       "      <th>0</th>\n",
       "      <td>1</td>\n",
       "      <td>31</td>\n",
       "      <td>2.5</td>\n",
       "    </tr>\n",
       "    <tr>\n",
       "      <th>1</th>\n",
       "      <td>1</td>\n",
       "      <td>1029</td>\n",
       "      <td>3.0</td>\n",
       "    </tr>\n",
       "    <tr>\n",
       "      <th>2</th>\n",
       "      <td>1</td>\n",
       "      <td>1061</td>\n",
       "      <td>3.0</td>\n",
       "    </tr>\n",
       "    <tr>\n",
       "      <th>3</th>\n",
       "      <td>1</td>\n",
       "      <td>1129</td>\n",
       "      <td>2.0</td>\n",
       "    </tr>\n",
       "    <tr>\n",
       "      <th>4</th>\n",
       "      <td>1</td>\n",
       "      <td>1172</td>\n",
       "      <td>4.0</td>\n",
       "    </tr>\n",
       "  </tbody>\n",
       "</table>\n",
       "</div>"
      ],
      "text/plain": [
       "   user_id  item_id  rating\n",
       "0        1       31     2.5\n",
       "1        1     1029     3.0\n",
       "2        1     1061     3.0\n",
       "3        1     1129     2.0\n",
       "4        1     1172     4.0"
      ]
     },
     "execution_count": 9,
     "metadata": {},
     "output_type": "execute_result"
    }
   ],
   "source": [
    "reviews = pd.read_csv('data/movielens/ratings_small.csv',usecols=['userId','movieId','rating'])\n",
    "reviews.columns=['user_id','item_id','rating']\n",
    "reviews.head()"
   ]
  },
  {
   "cell_type": "code",
   "execution_count": 14,
   "id": "b457c062",
   "metadata": {},
   "outputs": [
    {
     "ename": "TypeError",
     "evalue": "get_recos_users() got an unexpected keyword argument 'filter_reviews'",
     "output_type": "error",
     "traceback": [
      "\u001b[1;31m---------------------------------------------------------------------------\u001b[0m",
      "\u001b[1;31mTypeError\u001b[0m                                 Traceback (most recent call last)",
      "\u001b[1;32mc:\\git\\reco_system\\Untitled.ipynb Cell 5'\u001b[0m in \u001b[0;36m<cell line: 1>\u001b[1;34m()\u001b[0m\n\u001b[1;32m----> <a href='vscode-notebook-cell:/c%3A/git/reco_system/Untitled.ipynb#ch0000003?line=0'>1</a>\u001b[0m df_recos \u001b[39m=\u001b[39m get_recos_users([\u001b[39m'\u001b[39;49m\u001b[39m31\u001b[39;49m\u001b[39m'\u001b[39;49m],reviews, default_rating\u001b[39m=\u001b[39;49m\u001b[39m4.0\u001b[39;49m, filter_reviews\u001b[39m=\u001b[39;49m\u001b[39mFalse\u001b[39;49;00m)\n",
      "\u001b[1;31mTypeError\u001b[0m: get_recos_users() got an unexpected keyword argument 'filter_reviews'"
     ]
    }
   ],
   "source": [
    "df_recos = get_recos_users(['31'],reviews, default_rating=4.0, filter_reviews=False)"
   ]
  },
  {
   "cell_type": "code",
   "execution_count": 13,
   "id": "7ea3002b",
   "metadata": {},
   "outputs": [],
   "source": []
  },
  {
   "cell_type": "code",
   "execution_count": 14,
   "id": "16c7843f",
   "metadata": {},
   "outputs": [
    {
     "data": {
      "text/html": [
       "<div>\n",
       "<style scoped>\n",
       "    .dataframe tbody tr th:only-of-type {\n",
       "        vertical-align: middle;\n",
       "    }\n",
       "\n",
       "    .dataframe tbody tr th {\n",
       "        vertical-align: top;\n",
       "    }\n",
       "\n",
       "    .dataframe thead th {\n",
       "        text-align: right;\n",
       "    }\n",
       "</style>\n",
       "<table border=\"1\" class=\"dataframe\">\n",
       "  <thead>\n",
       "    <tr style=\"text-align: right;\">\n",
       "      <th></th>\n",
       "      <th>title</th>\n",
       "      <th>img_url</th>\n",
       "    </tr>\n",
       "  </thead>\n",
       "  <tbody>\n",
       "    <tr>\n",
       "      <th>0</th>\n",
       "      <td>Haikyuu!! Second Season</td>\n",
       "      <td>https://cdn.myanimelist.net/images/anime/9/766...</td>\n",
       "    </tr>\n",
       "    <tr>\n",
       "      <th>1</th>\n",
       "      <td>Shigatsu wa Kimi no Uso</td>\n",
       "      <td>https://cdn.myanimelist.net/images/anime/3/671...</td>\n",
       "    </tr>\n",
       "    <tr>\n",
       "      <th>2</th>\n",
       "      <td>Made in Abyss</td>\n",
       "      <td>https://cdn.myanimelist.net/images/anime/6/867...</td>\n",
       "    </tr>\n",
       "    <tr>\n",
       "      <th>3</th>\n",
       "      <td>Fullmetal Alchemist: Brotherhood</td>\n",
       "      <td>https://cdn.myanimelist.net/images/anime/1223/...</td>\n",
       "    </tr>\n",
       "    <tr>\n",
       "      <th>4</th>\n",
       "      <td>Kizumonogatari III: Reiketsu-hen</td>\n",
       "      <td>https://cdn.myanimelist.net/images/anime/3/815...</td>\n",
       "    </tr>\n",
       "    <tr>\n",
       "      <th>...</th>\n",
       "      <td>...</td>\n",
       "      <td>...</td>\n",
       "    </tr>\n",
       "    <tr>\n",
       "      <th>19306</th>\n",
       "      <td>Flip Flappers</td>\n",
       "      <td>https://cdn.myanimelist.net/images/anime/4/822...</td>\n",
       "    </tr>\n",
       "    <tr>\n",
       "      <th>19307</th>\n",
       "      <td>Fushigi Yuugi</td>\n",
       "      <td>https://cdn.myanimelist.net/images/anime/2/201...</td>\n",
       "    </tr>\n",
       "    <tr>\n",
       "      <th>19308</th>\n",
       "      <td>Gakkou no Kaidan</td>\n",
       "      <td>https://cdn.myanimelist.net/images/anime/9/183...</td>\n",
       "    </tr>\n",
       "    <tr>\n",
       "      <th>19309</th>\n",
       "      <td>InuYasha Movie 2: Kagami no Naka no Mugenjo</td>\n",
       "      <td>https://cdn.myanimelist.net/images/anime/1162/...</td>\n",
       "    </tr>\n",
       "    <tr>\n",
       "      <th>19310</th>\n",
       "      <td>Mobile Suit Gundam: Char's Counterattack</td>\n",
       "      <td>https://cdn.myanimelist.net/images/anime/1523/...</td>\n",
       "    </tr>\n",
       "  </tbody>\n",
       "</table>\n",
       "<p>19311 rows × 2 columns</p>\n",
       "</div>"
      ],
      "text/plain": [
       "                                             title  \\\n",
       "0                          Haikyuu!! Second Season   \n",
       "1                          Shigatsu wa Kimi no Uso   \n",
       "2                                    Made in Abyss   \n",
       "3                 Fullmetal Alchemist: Brotherhood   \n",
       "4                 Kizumonogatari III: Reiketsu-hen   \n",
       "...                                            ...   \n",
       "19306                                Flip Flappers   \n",
       "19307                                Fushigi Yuugi   \n",
       "19308                             Gakkou no Kaidan   \n",
       "19309  InuYasha Movie 2: Kagami no Naka no Mugenjo   \n",
       "19310     Mobile Suit Gundam: Char's Counterattack   \n",
       "\n",
       "                                                 img_url  \n",
       "0      https://cdn.myanimelist.net/images/anime/9/766...  \n",
       "1      https://cdn.myanimelist.net/images/anime/3/671...  \n",
       "2      https://cdn.myanimelist.net/images/anime/6/867...  \n",
       "3      https://cdn.myanimelist.net/images/anime/1223/...  \n",
       "4      https://cdn.myanimelist.net/images/anime/3/815...  \n",
       "...                                                  ...  \n",
       "19306  https://cdn.myanimelist.net/images/anime/4/822...  \n",
       "19307  https://cdn.myanimelist.net/images/anime/2/201...  \n",
       "19308  https://cdn.myanimelist.net/images/anime/9/183...  \n",
       "19309  https://cdn.myanimelist.net/images/anime/1162/...  \n",
       "19310  https://cdn.myanimelist.net/images/anime/1523/...  \n",
       "\n",
       "[19311 rows x 2 columns]"
      ]
     },
     "execution_count": 14,
     "metadata": {},
     "output_type": "execute_result"
    }
   ],
   "source": []
  },
  {
   "cell_type": "code",
   "execution_count": null,
   "id": "b2aa927a",
   "metadata": {},
   "outputs": [],
   "source": []
  }
 ],
 "metadata": {
  "kernelspec": {
   "display_name": "Python 3.9.12 ('reco_system': venv)",
   "language": "python",
   "name": "python3"
  },
  "language_info": {
   "codemirror_mode": {
    "name": "ipython",
    "version": 3
   },
   "file_extension": ".py",
   "mimetype": "text/x-python",
   "name": "python",
   "nbconvert_exporter": "python",
   "pygments_lexer": "ipython3",
   "version": "3.9.12"
  },
  "vscode": {
   "interpreter": {
    "hash": "e601258f51ddca42595aa203183a0a7f0c8a7edb35b20e6e399f597e75c4505c"
   }
  }
 },
 "nbformat": 4,
 "nbformat_minor": 5
}
