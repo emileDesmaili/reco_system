{
 "cells": [
  {
   "cell_type": "code",
   "execution_count": 1,
   "id": "1f615bea",
   "metadata": {},
   "outputs": [],
   "source": [
    "import pandas as pd\n",
    "from streamlit_assets.components import get_recos_users\n",
    "from sklearn.preprocessing import LabelEncoder\n",
    "from surprise import SVD, NMF, KNNBasic, SVDpp\n",
    "from surprise.model_selection import cross_validate\n",
    "from surprise import Dataset\n",
    "from surprise import Reader\n",
    "import numpy as np"
   ]
  },
  {
   "cell_type": "markdown",
   "id": "7311b222",
   "metadata": {},
   "source": [
    "### Exploring metacritic data for recos"
   ]
  },
  {
   "cell_type": "code",
   "execution_count": 2,
   "id": "eb2879d4",
   "metadata": {},
   "outputs": [
    {
     "data": {
      "text/html": [
       "<div>\n",
       "<style scoped>\n",
       "    .dataframe tbody tr th:only-of-type {\n",
       "        vertical-align: middle;\n",
       "    }\n",
       "\n",
       "    .dataframe tbody tr th {\n",
       "        vertical-align: top;\n",
       "    }\n",
       "\n",
       "    .dataframe thead th {\n",
       "        text-align: right;\n",
       "    }\n",
       "</style>\n",
       "<table border=\"1\" class=\"dataframe\">\n",
       "  <thead>\n",
       "    <tr style=\"text-align: right;\">\n",
       "      <th></th>\n",
       "      <th>rank</th>\n",
       "      <th>critic_meta_score</th>\n",
       "      <th>meta_score</th>\n",
       "    </tr>\n",
       "  </thead>\n",
       "  <tbody>\n",
       "    <tr>\n",
       "      <th>count</th>\n",
       "      <td>52689.000000</td>\n",
       "      <td>52689.000000</td>\n",
       "      <td>52689.000000</td>\n",
       "    </tr>\n",
       "    <tr>\n",
       "      <th>mean</th>\n",
       "      <td>1554.035472</td>\n",
       "      <td>65.396136</td>\n",
       "      <td>65.277990</td>\n",
       "    </tr>\n",
       "    <tr>\n",
       "      <th>std</th>\n",
       "      <td>899.226203</td>\n",
       "      <td>21.106417</td>\n",
       "      <td>14.802795</td>\n",
       "    </tr>\n",
       "    <tr>\n",
       "      <th>min</th>\n",
       "      <td>1.000000</td>\n",
       "      <td>0.000000</td>\n",
       "      <td>13.000000</td>\n",
       "    </tr>\n",
       "    <tr>\n",
       "      <th>25%</th>\n",
       "      <td>790.000000</td>\n",
       "      <td>50.000000</td>\n",
       "      <td>56.000000</td>\n",
       "    </tr>\n",
       "    <tr>\n",
       "      <th>50%</th>\n",
       "      <td>1551.000000</td>\n",
       "      <td>70.000000</td>\n",
       "      <td>66.000000</td>\n",
       "    </tr>\n",
       "    <tr>\n",
       "      <th>75%</th>\n",
       "      <td>2318.000000</td>\n",
       "      <td>80.000000</td>\n",
       "      <td>76.000000</td>\n",
       "    </tr>\n",
       "    <tr>\n",
       "      <th>max</th>\n",
       "      <td>3139.000000</td>\n",
       "      <td>100.000000</td>\n",
       "      <td>99.000000</td>\n",
       "    </tr>\n",
       "  </tbody>\n",
       "</table>\n",
       "</div>"
      ],
      "text/plain": [
       "               rank  critic_meta_score    meta_score\n",
       "count  52689.000000       52689.000000  52689.000000\n",
       "mean    1554.035472          65.396136     65.277990\n",
       "std      899.226203          21.106417     14.802795\n",
       "min        1.000000           0.000000     13.000000\n",
       "25%      790.000000          50.000000     56.000000\n",
       "50%     1551.000000          70.000000     66.000000\n",
       "75%     2318.000000          80.000000     76.000000\n",
       "max     3139.000000         100.000000     99.000000"
      ]
     },
     "execution_count": 2,
     "metadata": {},
     "output_type": "execute_result"
    }
   ],
   "source": [
    "meta_df = pd.read_csv('data/metacritic.csv').dropna(subset='critic_meta_score')\n",
    "#meta_df = meta_df.rename(columns={\"title\":\"item_id\"})\n",
    "\n",
    "meta_df.describe()\n"
   ]
  },
  {
   "cell_type": "code",
   "execution_count": 4,
   "id": "c2e655fb",
   "metadata": {},
   "outputs": [],
   "source": [
    "id_maker = LabelEncoder()\n",
    "meta_df['user_id'] = id_maker.fit_transform(meta_df['author'])\n",
    "meta_df['item_id'] = meta_df['title']\n",
    "meta_df['rating'] = meta_df['critic_meta_score'].apply(int)\n",
    "\n",
    "reviews = meta_df[['user_id','item_id','rating']]"
   ]
  },
  {
   "cell_type": "code",
   "execution_count": 11,
   "id": "adcb4aa6",
   "metadata": {},
   "outputs": [],
   "source": [
    "tv_list = ['Breaking Bad: Season 5','Rectify: Season 4','Better Call Saul: Season 5','The Leftovers: Season 1']\n",
    "#new_ids = meta_df.loc[meta_df['title'].isin(tv_list), 'item_id'].unique()"
   ]
  },
  {
   "cell_type": "code",
   "execution_count": 12,
   "id": "b457c062",
   "metadata": {},
   "outputs": [
    {
     "name": "stderr",
     "output_type": "stream",
     "text": [
      "c:\\git\\reco_system\\streamlit_assets\\components.py:82: FutureWarning: The frame.append method is deprecated and will be removed from pandas in a future version. Use pandas.concat instead.\n",
      "  df_reviews = df.append(new_df).reset_index(drop=True)\n"
     ]
    }
   ],
   "source": [
    "df_recos = get_recos_users(tv_list,reviews, filter_items=True,filter_n=20, default_rating=90)"
   ]
  },
  {
   "cell_type": "code",
   "execution_count": 13,
   "id": "8e3d48c1",
   "metadata": {},
   "outputs": [
    {
     "data": {
      "text/html": [
       "<div>\n",
       "<style scoped>\n",
       "    .dataframe tbody tr th:only-of-type {\n",
       "        vertical-align: middle;\n",
       "    }\n",
       "\n",
       "    .dataframe tbody tr th {\n",
       "        vertical-align: top;\n",
       "    }\n",
       "\n",
       "    .dataframe thead th {\n",
       "        text-align: right;\n",
       "    }\n",
       "</style>\n",
       "<table border=\"1\" class=\"dataframe\">\n",
       "  <thead>\n",
       "    <tr style=\"text-align: right;\">\n",
       "      <th></th>\n",
       "      <th>title</th>\n",
       "      <th>summary</th>\n",
       "      <th>match</th>\n",
       "    </tr>\n",
       "  </thead>\n",
       "  <tbody>\n",
       "    <tr>\n",
       "      <th>0</th>\n",
       "      <td>The Night Of: Season 1</td>\n",
       "      <td>The limited series created by Steven Zaillian ...</td>\n",
       "      <td>88.524987</td>\n",
       "    </tr>\n",
       "    <tr>\n",
       "      <th>1</th>\n",
       "      <td>Master of None: Season 2</td>\n",
       "      <td>Dev (Aziz Ansari) travels to Italy in the seco...</td>\n",
       "      <td>88.022791</td>\n",
       "    </tr>\n",
       "    <tr>\n",
       "      <th>2</th>\n",
       "      <td>Atlanta: Season 2</td>\n",
       "      <td>The second season subtitled the Atlanta Robbin...</td>\n",
       "      <td>87.498602</td>\n",
       "    </tr>\n",
       "    <tr>\n",
       "      <th>3</th>\n",
       "      <td>Transparent: Season 2</td>\n",
       "      <td>Maura's (Jeffrey Tambor) journey continues in ...</td>\n",
       "      <td>87.378054</td>\n",
       "    </tr>\n",
       "    <tr>\n",
       "      <th>4</th>\n",
       "      <td>The Americans: Season 4</td>\n",
       "      <td>Elizabeth and Phillips are given a new dangero...</td>\n",
       "      <td>87.348073</td>\n",
       "    </tr>\n",
       "    <tr>\n",
       "      <th>...</th>\n",
       "      <td>...</td>\n",
       "      <td>...</td>\n",
       "      <td>...</td>\n",
       "    </tr>\n",
       "    <tr>\n",
       "      <th>1010</th>\n",
       "      <td>Fuller House: Season 1</td>\n",
       "      <td>The Tanner family returns with D.J. Tanner-Ful...</td>\n",
       "      <td>45.874127</td>\n",
       "    </tr>\n",
       "    <tr>\n",
       "      <th>1011</th>\n",
       "      <td>October Road: Season 1</td>\n",
       "      <td>A young novelist (Unscripted's Bryan Greenberg...</td>\n",
       "      <td>45.784338</td>\n",
       "    </tr>\n",
       "    <tr>\n",
       "      <th>1012</th>\n",
       "      <td>Work It : Season 1</td>\n",
       "      <td>After they are laid off, Lee Standish (Ben Kol...</td>\n",
       "      <td>42.966910</td>\n",
       "    </tr>\n",
       "    <tr>\n",
       "      <th>1013</th>\n",
       "      <td>Dads: Season 1</td>\n",
       "      <td>In this live-action comedy from producer Seth ...</td>\n",
       "      <td>41.023261</td>\n",
       "    </tr>\n",
       "    <tr>\n",
       "      <th>1014</th>\n",
       "      <td>Stalker: Season 1</td>\n",
       "      <td>Lt. Beth Davis (Maggie Q) leads the Threat Ass...</td>\n",
       "      <td>35.624269</td>\n",
       "    </tr>\n",
       "  </tbody>\n",
       "</table>\n",
       "<p>1015 rows × 3 columns</p>\n",
       "</div>"
      ],
      "text/plain": [
       "                         title  \\\n",
       "0       The Night Of: Season 1   \n",
       "1     Master of None: Season 2   \n",
       "2            Atlanta: Season 2   \n",
       "3        Transparent: Season 2   \n",
       "4      The Americans: Season 4   \n",
       "...                        ...   \n",
       "1010    Fuller House: Season 1   \n",
       "1011    October Road: Season 1   \n",
       "1012        Work It : Season 1   \n",
       "1013            Dads: Season 1   \n",
       "1014         Stalker: Season 1   \n",
       "\n",
       "                                                summary      match  \n",
       "0     The limited series created by Steven Zaillian ...  88.524987  \n",
       "1     Dev (Aziz Ansari) travels to Italy in the seco...  88.022791  \n",
       "2     The second season subtitled the Atlanta Robbin...  87.498602  \n",
       "3     Maura's (Jeffrey Tambor) journey continues in ...  87.378054  \n",
       "4     Elizabeth and Phillips are given a new dangero...  87.348073  \n",
       "...                                                 ...        ...  \n",
       "1010  The Tanner family returns with D.J. Tanner-Ful...  45.874127  \n",
       "1011  A young novelist (Unscripted's Bryan Greenberg...  45.784338  \n",
       "1012  After they are laid off, Lee Standish (Ben Kol...  42.966910  \n",
       "1013  In this live-action comedy from producer Seth ...  41.023261  \n",
       "1014  Lt. Beth Davis (Maggie Q) leads the Threat Ass...  35.624269  \n",
       "\n",
       "[1015 rows x 3 columns]"
      ]
     },
     "execution_count": 13,
     "metadata": {},
     "output_type": "execute_result"
    }
   ],
   "source": [
    "df_merged = meta_df.merge(df_recos, on='item_id').drop_duplicates(subset='item_id').sort_values(by='match', ascending=False).reset_index(drop=True)\n",
    "df_merged.sort_values(by='match', ascending=False)\n",
    "df_merged[['title','summary','match']]"
   ]
  },
  {
   "cell_type": "code",
   "execution_count": null,
   "id": "58406858",
   "metadata": {},
   "outputs": [],
   "source": []
  }
 ],
 "metadata": {
  "kernelspec": {
   "display_name": "Python 3.9.12 ('reco_system': venv)",
   "language": "python",
   "name": "python3"
  },
  "language_info": {
   "codemirror_mode": {
    "name": "ipython",
    "version": 3
   },
   "file_extension": ".py",
   "mimetype": "text/x-python",
   "name": "python",
   "nbconvert_exporter": "python",
   "pygments_lexer": "ipython3",
   "version": "3.9.12"
  },
  "vscode": {
   "interpreter": {
    "hash": "e601258f51ddca42595aa203183a0a7f0c8a7edb35b20e6e399f597e75c4505c"
   }
  }
 },
 "nbformat": 4,
 "nbformat_minor": 5
}
